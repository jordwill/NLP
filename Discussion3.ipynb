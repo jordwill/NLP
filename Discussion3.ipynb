{
 "cells": [
  {
   "cell_type": "code",
   "execution_count": 1,
   "metadata": {},
   "outputs": [],
   "source": [
    "import PyPDF2\n",
    "import textract\n",
    "from nltk.tokenize import word_tokenize\n",
    "from nltk.corpus import stopwords\n",
    "import glob\n",
    "import os"
   ]
  },
  {
   "cell_type": "code",
   "execution_count": 2,
   "metadata": {},
   "outputs": [],
   "source": [
    "# the following functions were pulled from here: https://www.dev2qa.com/how-to-extract-text-from-pdf-in-python/\n",
    "# This function will extract and return the pdf file text content.\n",
    "def extractPdfText(filePath=''):\n",
    "\n",
    "    # Open the pdf file in read binary mode.\n",
    "    fileObject = open(filePath, 'rb')\n",
    "\n",
    "    # Create a pdf reader .\n",
    "    pdfFileReader = PyPDF2.PdfFileReader(fileObject)\n",
    "\n",
    "    # Get total pdf page number.\n",
    "    totalPageNumber = pdfFileReader.numPages\n",
    "\n",
    "    # Print pdf total page number.\n",
    "    print('This pdf file contains totally ' + str(totalPageNumber) + ' pages.')\n",
    "\n",
    "    currentPageNumber = 0\n",
    "    text = ''\n",
    "\n",
    "    # Loop in all the pdf pages.\n",
    "    while(currentPageNumber < totalPageNumber ):\n",
    "\n",
    "        # Get the specified pdf page object.\n",
    "        pdfPage = pdfFileReader.getPage(currentPageNumber)\n",
    "\n",
    "        # Get pdf page text.\n",
    "        text = text + pdfPage.extractText()\n",
    "\n",
    "        # Process next page.\n",
    "        currentPageNumber += 1\n",
    "\n",
    "    if(text == ''):\n",
    "        # If can not extract text then use ocr lib to extract the scanned pdf file.\n",
    "        text = textract.process(filePath, method='tesseract', encoding='utf-8')\n",
    "       \n",
    "    return text"
   ]
  },
  {
   "cell_type": "code",
   "execution_count": 3,
   "metadata": {},
   "outputs": [],
   "source": [
    "# This function will remove all stop words and punctuations in the text and return a list of keywords.\n",
    "def extractKeywords(text):\n",
    "    # Split the text words into tokens\n",
    "    wordTokens = word_tokenize(text)\n",
    "    \n",
    "    # Remove punctuation in the list.\n",
    "    punctuations = ['(',')',';',':','[',']',',','-', '//', '.']\n",
    "\n",
    "    # Get all stop words in english.\n",
    "    stopWords = stopwords.words('english')\n",
    "    \n",
    "    # Common numbers to remove\n",
    "    common_numbers = ['1','2','3','4','5','6','7','8','9','10','11','12','13','14','15','16','17','18','19','20',\n",
    "                     '21','22','23','24','25','26','27','28','29','30']\n",
    "\n",
    "    # Below list comprehension will return only keywords tha are not in stop words and punctuations\n",
    "    keywords = [word for word in wordTokens if not word in stopWords and not word in punctuations \n",
    "                and not word in common_numbers]\n",
    "   \n",
    "    return keywords"
   ]
  },
  {
   "cell_type": "code",
   "execution_count": 4,
   "metadata": {},
   "outputs": [
    {
     "name": "stdout",
     "output_type": "stream",
     "text": [
      "This pdf file contains totally 12 pages.\n",
      "There are 14653 words in the pdf file.\n",
      "There are 1149 keywords in the pdf file.\n"
     ]
    }
   ],
   "source": [
    "# test out the functions\n",
    "pdfFilePath = 'C:/Users/Jordan/Desktop/PatentActionForecast/Complaints_Study/pdfs/cacd-2-17-cv-01161-1.pdf'\n",
    "   \n",
    "pdfText = extractPdfText(pdfFilePath)\n",
    "print('There are ' + str(pdfText.__len__()) + ' words in the pdf file.')\n",
    "#print(pdfText)\n",
    "\n",
    "keywords = extractKeywords(pdfText)\n",
    "print('There are ' + str(keywords.__len__()) + ' keywords in the pdf file.')\n",
    "#print(keywords) "
   ]
  },
  {
   "cell_type": "code",
   "execution_count": 5,
   "metadata": {},
   "outputs": [
    {
     "name": "stdout",
     "output_type": "stream",
     "text": [
      "[('SPIGEN', 24), ('Design', 24), ('Spigen', 23), ('Patents', 19), ('Defendants', 15), ('FOR', 13), ('PATENT', 13), ('INFRINGEMENT', 13), ('ULTRAPROOF', 12), ('COMPLAINT', 12)]\n"
     ]
    }
   ],
   "source": [
    "# test out Freqdist on the text\n",
    "from nltk.probability import FreqDist\n",
    "fdist = FreqDist(keywords)\n",
    "print(fdist.most_common(10))"
   ]
  },
  {
   "cell_type": "code",
   "execution_count": 6,
   "metadata": {},
   "outputs": [
    {
     "name": "stdout",
     "output_type": "stream",
     "text": [
      "This pdf file contains totally 12 pages.\n",
      "Adding file: C:/Users/Jordan/Desktop/PatentActionForecast/Complaints_Study/pdfs\\cacd-2-17-cv-01161-1.pdf\n",
      "There are 14653 words in the pdf file.\n",
      "There are 1149 keywords in the pdf file.\n",
      "This pdf file contains totally 16 pages.\n",
      "Adding file: C:/Users/Jordan/Desktop/PatentActionForecast/Complaints_Study/pdfs\\cacd-2-17-cv-01177-2.pdf\n",
      "There are 33090 words in the pdf file.\n",
      "There are 3064 keywords in the pdf file.\n",
      "This pdf file contains totally 4 pages.\n",
      "Adding file: C:/Users/Jordan/Desktop/PatentActionForecast/Complaints_Study/pdfs\\cand-3-17-cv-00650-1.pdf\n",
      "There are 5384 words in the pdf file.\n",
      "There are 453 keywords in the pdf file.\n",
      "This pdf file contains totally 23 pages.\n",
      "Adding file: C:/Users/Jordan/Desktop/PatentActionForecast/Complaints_Study/pdfs\\casd-3-17-cv-00245-1.pdf\n",
      "There are 45384 words in the pdf file.\n",
      "There are 4422 keywords in the pdf file.\n",
      "This pdf file contains totally 13 pages.\n",
      "Adding file: C:/Users/Jordan/Desktop/PatentActionForecast/Complaints_Study/pdfs\\ded-1-17-cv-00072-1.pdf\n",
      "There are 19413 words in the pdf file.\n",
      "There are 702 keywords in the pdf file.\n",
      "This pdf file contains totally 16 pages.\n",
      "Adding file: C:/Users/Jordan/Desktop/PatentActionForecast/Complaints_Study/pdfs\\ded-1-17-cv-00082-1.pdf\n",
      "There are 28397 words in the pdf file.\n",
      "There are 2873 keywords in the pdf file.\n",
      "This pdf file contains totally 7 pages.\n",
      "Adding file: C:/Users/Jordan/Desktop/PatentActionForecast/Complaints_Study/pdfs\\ded-1-17-cv-00086-1.pdf\n",
      "There are 11547 words in the pdf file.\n",
      "There are 1201 keywords in the pdf file.\n",
      "This pdf file contains totally 28 pages.\n",
      "Adding file: C:/Users/Jordan/Desktop/PatentActionForecast/Complaints_Study/pdfs\\ded-1-17-cv-00130-1.pdf\n",
      "There are 41688 words in the pdf file.\n",
      "There are 1232 keywords in the pdf file.\n",
      "This pdf file contains totally 9 pages.\n",
      "Adding file: C:/Users/Jordan/Desktop/PatentActionForecast/Complaints_Study/pdfs\\ded-1-17-cv-00134-1.pdf\n",
      "There are 12196 words in the pdf file.\n",
      "There are 470 keywords in the pdf file.\n",
      "This pdf file contains totally 8 pages.\n",
      "Adding file: C:/Users/Jordan/Desktop/PatentActionForecast/Complaints_Study/pdfs\\ded-1-17-cv-00135-1.pdf\n",
      "There are 12032 words in the pdf file.\n",
      "There are 455 keywords in the pdf file.\n",
      "This pdf file contains totally 96 pages.\n",
      "Adding file: C:/Users/Jordan/Desktop/PatentActionForecast/Complaints_Study/pdfs\\ded-1-17-cv-00155-1.pdf\n",
      "There are 3279 words in the pdf file.\n",
      "There are 204 keywords in the pdf file.\n",
      "This pdf file contains totally 12 pages.\n",
      "Adding file: C:/Users/Jordan/Desktop/PatentActionForecast/Complaints_Study/pdfs\\ded-1-17-cv-00158-1.pdf\n",
      "There are 19092 words in the pdf file.\n",
      "There are 2117 keywords in the pdf file.\n",
      "This pdf file contains totally 10 pages.\n",
      "Adding file: C:/Users/Jordan/Desktop/PatentActionForecast/Complaints_Study/pdfs\\ded-1-17-cv-00159-1.pdf\n",
      "There are 16047 words in the pdf file.\n",
      "There are 1704 keywords in the pdf file.\n",
      "This pdf file contains totally 9 pages.\n",
      "Adding file: C:/Users/Jordan/Desktop/PatentActionForecast/Complaints_Study/pdfs\\flsd-9-17-cv-80171-1.pdf\n",
      "There are 13303 words in the pdf file.\n",
      "There are 1417 keywords in the pdf file.\n",
      "This pdf file contains totally 23 pages.\n",
      "Adding file: C:/Users/Jordan/Desktop/PatentActionForecast/Complaints_Study/pdfs\\gand-1-17-cv-00522-1.pdf\n",
      "There are 27632 words in the pdf file.\n",
      "There are 2870 keywords in the pdf file.\n",
      "This pdf file contains totally 7 pages.\n",
      "Adding file: C:/Users/Jordan/Desktop/PatentActionForecast/Complaints_Study/pdfs\\ilnd-1-17-cv-00983-1.pdf\n",
      "There are 8188 words in the pdf file.\n",
      "There are 768 keywords in the pdf file.\n",
      "This pdf file contains totally 7 pages.\n",
      "Adding file: C:/Users/Jordan/Desktop/PatentActionForecast/Complaints_Study/pdfs\\ilnd-1-17-cv-01009-1.pdf\n",
      "There are 9021 words in the pdf file.\n",
      "There are 827 keywords in the pdf file.\n",
      "This pdf file contains totally 8 pages.\n",
      "Adding file: C:/Users/Jordan/Desktop/PatentActionForecast/Complaints_Study/pdfs\\ilnd-1-17-cv-01038-1.pdf\n",
      "There are 10998 words in the pdf file.\n",
      "There are 1233 keywords in the pdf file.\n",
      "This pdf file contains totally 7 pages.\n",
      "Adding file: C:/Users/Jordan/Desktop/PatentActionForecast/Complaints_Study/pdfs\\ilnd-1-17-cv-01040-1.pdf\n",
      "There are 11172 words in the pdf file.\n",
      "There are 1302 keywords in the pdf file.\n",
      "This pdf file contains totally 7 pages.\n",
      "Adding file: C:/Users/Jordan/Desktop/PatentActionForecast/Complaints_Study/pdfs\\ilnd-1-17-cv-01055-1.pdf\n",
      "There are 8284 words in the pdf file.\n",
      "There are 780 keywords in the pdf file.\n",
      "This pdf file contains totally 7 pages.\n",
      "Adding file: C:/Users/Jordan/Desktop/PatentActionForecast/Complaints_Study/pdfs\\ilnd-1-17-cv-01056-1.pdf\n",
      "There are 8809 words in the pdf file.\n",
      "There are 811 keywords in the pdf file.\n",
      "This pdf file contains totally 6 pages.\n",
      "Adding file: C:/Users/Jordan/Desktop/PatentActionForecast/Complaints_Study/pdfs\\mad-1-17-cv-10233-1.pdf\n",
      "There are 6542 words in the pdf file.\n",
      "There are 246 keywords in the pdf file.\n",
      "This pdf file contains totally 18 pages.\n",
      "Adding file: C:/Users/Jordan/Desktop/PatentActionForecast/Complaints_Study/pdfs\\mdd-1-17-cv-00394-1.pdf\n",
      "There are 2260 words in the pdf file.\n",
      "There are 279 keywords in the pdf file.\n",
      "This pdf file contains totally 19 pages.\n",
      "Adding file: C:/Users/Jordan/Desktop/PatentActionForecast/Complaints_Study/pdfs\\mied-4-17-cv-10461-1.pdf\n",
      "There are 24529 words in the pdf file.\n",
      "There are 2518 keywords in the pdf file.\n",
      "This pdf file contains totally 11 pages.\n",
      "Adding file: C:/Users/Jordan/Desktop/PatentActionForecast/Complaints_Study/pdfs\\mnd-0-17-cv-00147-1.pdf\n",
      "There are 15202 words in the pdf file.\n",
      "There are 1573 keywords in the pdf file.\n",
      "This pdf file contains totally 10 pages.\n",
      "Adding file: C:/Users/Jordan/Desktop/PatentActionForecast/Complaints_Study/pdfs\\nced-5-17-cv-00076-1.pdf\n",
      "There are 16621 words in the pdf file.\n",
      "There are 1677 keywords in the pdf file.\n",
      "This pdf file contains totally 18 pages.\n",
      "Adding file: C:/Users/Jordan/Desktop/PatentActionForecast/Complaints_Study/pdfs\\njd-1-17-cv-00926-1.pdf\n",
      "There are 35837 words in the pdf file.\n",
      "There are 2986 keywords in the pdf file.\n",
      "This pdf file contains totally 10 pages.\n",
      "Adding file: C:/Users/Jordan/Desktop/PatentActionForecast/Complaints_Study/pdfs\\njd-2-17-cv-00210-1.pdf\n",
      "There are 13246 words in the pdf file.\n",
      "There are 1337 keywords in the pdf file.\n",
      "This pdf file contains totally 49 pages.\n",
      "Adding file: C:/Users/Jordan/Desktop/PatentActionForecast/Complaints_Study/pdfs\\njd-2-17-cv-00864-1.pdf\n",
      "There are 13 words in the pdf file.\n",
      "There are 2 keywords in the pdf file.\n",
      "This pdf file contains totally 19 pages.\n",
      "Adding file: C:/Users/Jordan/Desktop/PatentActionForecast/Complaints_Study/pdfs\\nysd-1-17-cv-00345-1.pdf\n",
      "There are 30755 words in the pdf file.\n",
      "There are 3231 keywords in the pdf file.\n",
      "This pdf file contains totally 8 pages.\n",
      "Adding file: C:/Users/Jordan/Desktop/PatentActionForecast/Complaints_Study/pdfs\\txed-2-17-cv-00118-1.pdf\n",
      "There are 9525 words in the pdf file.\n",
      "There are 976 keywords in the pdf file.\n",
      "This pdf file contains totally 76 pages.\n",
      "Adding file: C:/Users/Jordan/Desktop/PatentActionForecast/Complaints_Study/pdfs\\txed-2-17-cv-00119-1.pdf\n",
      "There are 116573 words in the pdf file.\n",
      "There are 13100 keywords in the pdf file.\n",
      "This pdf file contains totally 9 pages.\n",
      "Adding file: C:/Users/Jordan/Desktop/PatentActionForecast/Complaints_Study/pdfs\\txed-2-17-cv-00120-1.pdf\n",
      "There are 411 words in the pdf file.\n",
      "There are 15 keywords in the pdf file.\n",
      "This pdf file contains totally 8 pages.\n",
      "Adding file: C:/Users/Jordan/Desktop/PatentActionForecast/Complaints_Study/pdfs\\txed-2-17-cv-00121-1.pdf\n",
      "There are 392 words in the pdf file.\n",
      "There are 14 keywords in the pdf file.\n",
      "This pdf file contains totally 36 pages.\n",
      "Adding file: C:/Users/Jordan/Desktop/PatentActionForecast/Complaints_Study/pdfs\\txed-2-17-cv-00123-1.pdf\n",
      "There are 66234 words in the pdf file.\n",
      "There are 7078 keywords in the pdf file.\n",
      "This pdf file contains totally 14 pages.\n",
      "Adding file: C:/Users/Jordan/Desktop/PatentActionForecast/Complaints_Study/pdfs\\txed-2-17-cv-00124-1.pdf\n",
      "There are 27562 words in the pdf file.\n",
      "There are 2837 keywords in the pdf file.\n",
      "This pdf file contains totally 5 pages.\n",
      "Adding file: C:/Users/Jordan/Desktop/PatentActionForecast/Complaints_Study/pdfs\\txed-4-17-cv-00095-1.pdf\n",
      "There are 8693 words in the pdf file.\n",
      "There are 908 keywords in the pdf file.\n",
      "This pdf file contains totally 5 pages.\n",
      "Adding file: C:/Users/Jordan/Desktop/PatentActionForecast/Complaints_Study/pdfs\\txed-4-17-cv-00109-1.pdf\n",
      "There are 8834 words in the pdf file.\n",
      "There are 906 keywords in the pdf file.\n",
      "This pdf file contains totally 5 pages.\n"
     ]
    },
    {
     "name": "stdout",
     "output_type": "stream",
     "text": [
      "Adding file: C:/Users/Jordan/Desktop/PatentActionForecast/Complaints_Study/pdfs\\txed-4-17-cv-00111-1.pdf\n",
      "There are 8966 words in the pdf file.\n",
      "There are 941 keywords in the pdf file.\n",
      "This pdf file contains totally 6 pages.\n",
      "Adding file: C:/Users/Jordan/Desktop/PatentActionForecast/Complaints_Study/pdfs\\txed-5-17-cv-00014-1.pdf\n",
      "There are 10166 words in the pdf file.\n",
      "There are 981 keywords in the pdf file.\n",
      "This pdf file contains totally 5 pages.\n",
      "Adding file: C:/Users/Jordan/Desktop/PatentActionForecast/Complaints_Study/pdfs\\txed-5-17-cv-00028-1.pdf\n",
      "There are 7888 words in the pdf file.\n",
      "There are 762 keywords in the pdf file.\n",
      "This pdf file contains totally 5 pages.\n",
      "Adding file: C:/Users/Jordan/Desktop/PatentActionForecast/Complaints_Study/pdfs\\txed-5-17-cv-00029-1.pdf\n",
      "There are 7824 words in the pdf file.\n",
      "There are 744 keywords in the pdf file.\n",
      "This pdf file contains totally 5 pages.\n",
      "Adding file: C:/Users/Jordan/Desktop/PatentActionForecast/Complaints_Study/pdfs\\txed-5-17-cv-00030-1.pdf\n",
      "There are 7977 words in the pdf file.\n",
      "There are 771 keywords in the pdf file.\n",
      "This pdf file contains totally 5 pages.\n",
      "Adding file: C:/Users/Jordan/Desktop/PatentActionForecast/Complaints_Study/pdfs\\txed-5-17-cv-00031-1.pdf\n",
      "There are 7871 words in the pdf file.\n",
      "There are 772 keywords in the pdf file.\n",
      "This pdf file contains totally 5 pages.\n",
      "Adding file: C:/Users/Jordan/Desktop/PatentActionForecast/Complaints_Study/pdfs\\txed-5-17-cv-00032-1.pdf\n",
      "There are 7600 words in the pdf file.\n",
      "There are 742 keywords in the pdf file.\n",
      "This pdf file contains totally 10 pages.\n"
     ]
    },
    {
     "name": "stderr",
     "output_type": "stream",
     "text": [
      "PdfReadWarning: Xref table not zero-indexed. ID numbers for objects will be corrected. [pdf.py:1736]\n"
     ]
    },
    {
     "name": "stdout",
     "output_type": "stream",
     "text": [
      "Adding file: C:/Users/Jordan/Desktop/PatentActionForecast/Complaints_Study/pdfs\\txsd-4-17-cv-00455-1.pdf\n",
      "There are 17517 words in the pdf file.\n",
      "There are 1701 keywords in the pdf file.\n",
      "This pdf file contains totally 32 pages.\n",
      "Adding file: C:/Users/Jordan/Desktop/PatentActionForecast/Complaints_Study/pdfs\\txwd-1-17-cv-00091-1.pdf\n",
      "There are 49220 words in the pdf file.\n",
      "There are 5089 keywords in the pdf file.\n",
      "This pdf file contains totally 13 pages.\n",
      "Adding file: C:/Users/Jordan/Desktop/PatentActionForecast/Complaints_Study/pdfs\\txwd-5-17-cv-00098-1.pdf\n",
      "There are 17913 words in the pdf file.\n",
      "There are 1771 keywords in the pdf file.\n"
     ]
    }
   ],
   "source": [
    "# Create a corpus of all of the pdfs in the folder\n",
    "\n",
    "# first specify a filepath\n",
    "file_path = 'C:/Users/Jordan/Desktop/PatentActionForecast/Complaints_Study/pdfs/*'\n",
    "\n",
    "corpus = []\n",
    "\n",
    "\n",
    "for file in glob.glob(file_path):\n",
    "    pdfText = extractPdfText(file)\n",
    "    print('Adding file: {}'.format(file))\n",
    "    print('There are ' + str(pdfText.__len__()) + ' words in the pdf file.')\n",
    "    keywords = extractKeywords(pdfText)\n",
    "    print('There are ' + str(keywords.__len__()) + ' keywords in the pdf file.')\n",
    "    corpus.append(keywords)\n",
    "    "
   ]
  },
  {
   "cell_type": "code",
   "execution_count": 10,
   "metadata": {},
   "outputs": [],
   "source": [
    "# need to flatten the corpus\n",
    "flat_corpus = [item for sublist in corpus for item in sublist]\n",
    "\n",
    "# create FreqDist object\n",
    "fdist_corpus = FreqDist(flat_corpus)"
   ]
  },
  {
   "cell_type": "code",
   "execution_count": 13,
   "metadata": {},
   "outputs": [
    {
     "name": "stdout",
     "output_type": "stream",
     "text": [
      "<class 'nltk.probability.FreqDist'>\n",
      "[('Patent', 807), ('patent', 737), ('Accused', 709), ('and/or', 647), ('Products', 632), ('The', 596), ('infringement', 530), ('information', 511), ('U.S.C', 439), ('least', 426), ('United', 415), ('States', 415), ('belief', 397), ('§', 392), ('use', 374), ('data', 365), ('including', 363), ('35', 348), ('Defendant', 338), ('infringe', 286), ('one', 277), ('No', 275), ('YETI', 265), ('Plaintiff', 260), ('claim', 259), ('On', 255), ('sell', 249), ('directly', 249), ('LG', 241), ('Inc.', 238)]\n"
     ]
    }
   ],
   "source": [
    "print(type(fdist_corpus))\n",
    "print(fdist_corpus.most_common(30))"
   ]
  },
  {
   "cell_type": "code",
   "execution_count": 18,
   "metadata": {},
   "outputs": [
    {
     "data": {
      "image/png": "[encoded data removed]",
      "text/plain": [
       "<Figure size 1440x720 with 1 Axes>"
      ]
     },
     "metadata": {
      "needs_background": "light"
     },
     "output_type": "display_data"
    },
    {
     "data": {
      "text/plain": [
       "<matplotlib.axes._subplots.AxesSubplot at 0x1e4d35bfc18>"
      ]
     },
     "execution_count": 18,
     "metadata": {},
     "output_type": "execute_result"
    }
   ],
   "source": [
    "import matplotlib.pyplot as plt\n",
    "%matplotlib inline\n",
    "\n",
    "plt.rcParams['figure.figsize'] = (20, 10)\n",
    "\n",
    "fdist_corpus.plot(30, cumulative=False)"
   ]
  },
  {
   "cell_type": "code",
   "execution_count": null,
   "metadata": {},
   "outputs": [],
   "source": []
  }
 ],
 "metadata": {
  "kernelspec": {
   "display_name": "Python 3",
   "language": "python",
   "name": "python3"
  },
  "language_info": {
   "codemirror_mode": {
    "name": "ipython",
    "version": 3
   },
   "file_extension": ".py",
   "mimetype": "text/x-python",
   "name": "python",
   "nbconvert_exporter": "python",
   "pygments_lexer": "ipython3",
   "version": "3.7.3"
  }
 },
 "nbformat": 4,
 "nbformat_minor": 2
}
